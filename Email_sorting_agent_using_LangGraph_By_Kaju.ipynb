{
  "cells": [
    {
      "metadata": {
        "id": "-JTO5laNIPry"
      },
      "cell_type": "code",
      "outputs": [],
      "execution_count": 50,
      "source": [
        "%pip install -U -q langgraph langchain_google_genai google-generativeai"
      ]
    },
    {
      "metadata": {
        "id": "3-cLpWnHIPrz"
      },
      "cell_type": "code",
      "outputs": [],
      "execution_count": 51,
      "source": [
        "import os\n",
        "from typing import TypedDict, List, Dict, Any, Optional\n",
        "from langgraph.graph import StateGraph, START, END\n",
        "from langchain_google_genai import ChatGoogleGenerativeAI\n",
        "from langchain_core.messages import HumanMessage\n",
        "from google.colab import userdata"
      ]
    },
    {
      "cell_type": "code",
      "source": [
        "os.environ[\"GOOGLE_API_KEY\"] = userdata.get('GOOGLE_API_KEY')\n",
        "model = ChatGoogleGenerativeAI(model=\"gemini-2.5-pro\", temperature=0)"
      ],
      "metadata": {
        "id": "sZinMySxIm2z"
      },
      "execution_count": 68,
      "outputs": []
    },
    {
      "metadata": {
        "id": "00s6Xq4kIPr0"
      },
      "cell_type": "code",
      "outputs": [],
      "execution_count": 62,
      "source": [
        "class EmailState(TypedDict):\n",
        "    email: Dict[str, Any]\n",
        "    is_spam: Optional[bool]\n",
        "    spam_reason: Optional[str]\n",
        "    email_category: Optional[str]\n",
        "    email_draft: Optional[str]\n",
        "    messages: List[Dict[str, Any]]"
      ]
    },
    {
      "metadata": {
        "id": "CN8zYaxpIPr0",
        "colab": {
          "base_uri": "https://localhost:8080/"
        },
        "outputId": "60b76a82-69db-4987-91e2-a2644cfcd2e1"
      },
      "cell_type": "code",
      "outputs": [
        {
          "output_type": "execute_result",
          "data": {
            "text/plain": [
              "<langgraph.graph.state.StateGraph at 0x7834882e8890>"
            ]
          },
          "metadata": {},
          "execution_count": 63
        }
      ],
      "execution_count": 63,
      "source": [
        "def read_email(state: EmailState):\n",
        "    email = state[\"email\"]\n",
        "    print(f\"An AI Agent is processing an email from {email['sender']} with subject: {email['subject']}\")\n",
        "    return {}\n",
        "\n",
        "\n",
        "def classify_email(state: EmailState):\n",
        "    email = state[\"email\"]\n",
        "\n",
        "    prompt = f\"\"\"\n",
        "As a professional email reader, analyze this email and determine if it is spam or legitimate and should be brought to Mr. Prince attention.\n",
        "\n",
        "Email:\n",
        "From: {email['sender']}\n",
        "Subject: {email['subject']}\n",
        "Body: {email['body']}\n",
        "\n",
        "First, determine if this email is spam.\n",
        "answer with SPAM or HAM if it's legitimate. Only return the answer\n",
        "Answer :\n",
        "    \"\"\"\n",
        "    messages = [HumanMessage(content=prompt)]\n",
        "    response = model.invoke(messages)\n",
        "\n",
        "    response_text = response.content.lower()\n",
        "    print(response_text)\n",
        "    is_spam = \"spam\" in response_text and \"ham\" not in response_text\n",
        "\n",
        "    if not is_spam:\n",
        "        new_messages = state.get(\"messages\", []) + [\n",
        "            {\"role\": \"user\", \"content\": prompt},\n",
        "            {\"role\": \"assistant\", \"content\": response.content}\n",
        "        ]\n",
        "    else:\n",
        "        new_messages = state.get(\"messages\", [])\n",
        "\n",
        "    return {\n",
        "        \"is_spam\": is_spam,\n",
        "        \"messages\": new_messages\n",
        "    }\n",
        "\n",
        "\n",
        "def handle_spam(state: EmailState):\n",
        "    print(f\"Alfred has marked the email as spam.\")\n",
        "    print(\"The email has been moved to the spam folder.\")\n",
        "    return {}\n",
        "\n",
        "\n",
        "def drafting_response(state: EmailState):\n",
        "    email = state[\"email\"]\n",
        "\n",
        "    prompt = f\"\"\"\n",
        "As an AI Agent, draft a polite preliminary response to this email.\n",
        "\n",
        "Email:\n",
        "From: {email['sender']}\n",
        "Subject: {email['subject']}\n",
        "Body: {email['body']}\n",
        "\n",
        "Draft a brief, professional response that Mr. Prince can review and personalize before sending.\n",
        "    \"\"\"\n",
        "\n",
        "    messages = [HumanMessage(content=prompt)]\n",
        "\n",
        "\n",
        "    response = model.invoke(messages)\n",
        "\n",
        "\n",
        "    new_messages = state.get(\"messages\", []) + [\n",
        "        {\"role\": \"user\", \"content\": prompt},\n",
        "        {\"role\": \"assistant\", \"content\": response.content}\n",
        "    ]\n",
        "\n",
        "    return {\n",
        "        \"email_draft\": response.content,\n",
        "        \"messages\": new_messages\n",
        "    }\n",
        "\n",
        "def notify_mr_kaju(state: EmailState):\n",
        "    email = state[\"email\"]\n",
        "\n",
        "    print(\"\\n\" + \"=\" * 50)\n",
        "    print(f\"Hello, I am your AI Agent. You have received an email from {email['sender']}.\")\n",
        "    print(f\"Subject: {email['subject']}\")\n",
        "    print(\"\\nI've prepared a draft response for your review:\")\n",
        "    print(\"-\" * 50)\n",
        "    print(state[\"email_draft\"])\n",
        "    print(\"=\" * 50 + \"\\n\")\n",
        "\n",
        "    return {}\n",
        "\n",
        "\n",
        "def route_email(state: EmailState) -> str:\n",
        "    if state[\"is_spam\"]:\n",
        "        return \"spam\"\n",
        "    else:\n",
        "        return \"legitimate\"\n",
        "\n",
        "\n",
        "# Create the graph\n",
        "email_graph = StateGraph(EmailState)\n",
        "\n",
        "# Add nodes\n",
        "email_graph.add_node(\"read_email\", read_email)\n",
        "email_graph.add_node(\"classify_email\", classify_email)\n",
        "email_graph.add_node(\"handle_spam\", handle_spam)\n",
        "email_graph.add_node(\"drafting_response\", drafting_response)\n",
        "email_graph.add_node(\"notify_mr_kaju\", notify_mr_kaju)"
      ]
    },
    {
      "metadata": {
        "id": "NF-9NuOeIPr1",
        "colab": {
          "base_uri": "https://localhost:8080/"
        },
        "outputId": "d67f956d-6060-44ba-b3a5-148d68c38d54"
      },
      "cell_type": "code",
      "outputs": [
        {
          "output_type": "execute_result",
          "data": {
            "text/plain": [
              "<langgraph.graph.state.StateGraph at 0x7834882e8890>"
            ]
          },
          "metadata": {},
          "execution_count": 64
        }
      ],
      "execution_count": 64,
      "source": [
        "\n",
        "\n",
        "email_graph.add_edge(START, \"read_email\")\n",
        "\n",
        "email_graph.add_edge(\"read_email\", \"classify_email\")\n",
        "\n",
        "\n",
        "email_graph.add_conditional_edges(\n",
        "    \"classify_email\",\n",
        "    route_email,\n",
        "    {\n",
        "        \"spam\": \"handle_spam\",\n",
        "        \"legitimate\": \"drafting_response\"\n",
        "    }\n",
        ")\n",
        "\n",
        "email_graph.add_edge(\"handle_spam\", END)\n",
        "email_graph.add_edge(\"drafting_response\", \"notify_mr_kaju\")\n",
        "email_graph.add_edge(\"notify_mr_kaju\", END)\n"
      ]
    },
    {
      "metadata": {
        "id": "xzOWGr6XIPr1"
      },
      "cell_type": "code",
      "outputs": [],
      "execution_count": 65,
      "source": [
        "# Compile the graph\n",
        "compiled_graph = email_graph.compile()"
      ]
    },
    {
      "metadata": {
        "id": "M7JbBdQwIPr2",
        "colab": {
          "base_uri": "https://localhost:8080/",
          "height": 572
        },
        "outputId": "cd039578-6c04-42eb-9406-c36e50bcf3de"
      },
      "cell_type": "code",
      "outputs": [
        {
          "output_type": "display_data",
          "data": {
            "image/png": "[encoded data removed]",
            "text/plain": [
              "<IPython.core.display.Image object>"
            ]
          },
          "metadata": {}
        }
      ],
      "execution_count": 66,
      "source": [
        "from IPython.display import Image, display\n",
        "\n",
        "display(Image(compiled_graph.get_graph().draw_mermaid_png()))"
      ]
    },
    {
      "metadata": {
        "id": "Dhz9xZiWIPr2",
        "colab": {
          "base_uri": "https://localhost:8080/"
        },
        "outputId": "87765fb6-e196-41cc-e97d-86bfbb05e3d8"
      },
      "cell_type": "code",
      "outputs": [
        {
          "output_type": "stream",
          "name": "stdout",
          "text": [
            "\n",
            "Processing legitimate email...\n",
            "An AI Agent is processing an email from Cognizant AI with subject: Potential partnership ! \n",
            "ham\n",
            "\n",
            "==================================================\n",
            "Hello, I am your AI Agent. You have received an email from Cognizant AI.\n",
            "Subject: Potential partnership ! \n",
            "\n",
            "I've prepared a draft response for your review:\n",
            "--------------------------------------------------\n",
            "Of course. Here is a brief and professional draft response that Mr. Prince can review and personalize.\n",
            "\n",
            "---\n",
            "\n",
            "### **Draft Response for Mr. Prince's Review**\n",
            "\n",
            "**Option 1: Standard Subject Line**\n",
            "**Subject:** Re: Potential partnership !\n",
            "\n",
            "**Option 2: More Formal Subject Line**\n",
            "**Subject:** Re: Potential Partnership Inquiry - Vizuara & Cognizant AI\n",
            "\n",
            "**Body:**\n",
            "\n",
            "Dear Cognizant AI Team,\n",
            "\n",
            "Thank you for reaching out and for your interest in exploring a potential partnership with Vizuara.\n",
            "\n",
            "We are certainly open to discussing a collaboration. To make scheduling easier, you can view my availability and book a time directly via this link:\n",
            "\n",
            "[Insert Mr. Prince's Scheduling Link Here]\n",
            "\n",
            "Alternatively, please feel free to suggest a few dates and times that work for you next week, and I will be happy to coordinate.\n",
            "\n",
            "We look forward to connecting.\n",
            "\n",
            "Best regards,\n",
            "\n",
            "[Mr. Prince's Name]\n",
            "[Mr. Prince's Title]\n",
            "Vizuara\n",
            "==================================================\n",
            "\n",
            "\n",
            "Processing spam email...\n",
            "An AI Agent is processing an email from Crypto bro with subject: The best investment of 2025\n",
            "spam\n",
            "Alfred has marked the email as spam.\n",
            "The email has been moved to the spam folder.\n"
          ]
        }
      ],
      "execution_count": 75,
      "source": [
        " # Example emails for testing\n",
        "legitimate_email = {\n",
        "    \"sender\": \"Cognizant AI\",\n",
        "    \"subject\": \"Potential partnership ! \",\n",
        "    \"body\": \"We would like to explore a potential partnership/collaboration with Vizuara. Do let us know a good time to reach you!\"\n",
        "}\n",
        "\n",
        "spam_email = {\n",
        "    \"sender\": \"Crypto bro\",\n",
        "    \"subject\": \"The best investment of 2025\",\n",
        "    \"body\": \"Mr Wayne, I just launched an ALT coin and want you to buy some !\"\n",
        "}\n",
        "# Process legitimate email\n",
        "print(\"\\nProcessing legitimate email...\")\n",
        "legitimate_result = compiled_graph.invoke(\n",
        "    input={\n",
        "        \"email\": legitimate_email,\n",
        "        \"is_spam\": None,\n",
        "        \"spam_reason\": None,\n",
        "        \"email_category\": None,\n",
        "        \"email_draft\": None,\n",
        "        \"messages\": []\n",
        "    },\n",
        "    config={\"callbacks\": [langfuse_handler]}\n",
        ")\n",
        "\n",
        "# Process spam email\n",
        "print(\"\\nProcessing spam email...\")\n",
        "spam_result = compiled_graph.invoke(\n",
        "    input={\n",
        "        \"email\": spam_email,\n",
        "        \"is_spam\": None,\n",
        "        \"spam_reason\": None,\n",
        "        \"email_category\": None,\n",
        "        \"email_draft\": None,\n",
        "        \"messages\": []\n",
        "    },\n",
        "    config={\"callbacks\": [langfuse_handler]}\n",
        ")"
      ]
    },
    {
      "metadata": {
        "id": "7EvdsApMIPr2"
      },
      "cell_type": "code",
      "outputs": [],
      "execution_count": null,
      "source": [
        "!pip install langfuse[langchain]\n"
      ]
    },
    {
      "metadata": {
        "id": "arwBANvnIPr2"
      },
      "cell_type": "code",
      "outputs": [],
      "execution_count": null,
      "source": [
        "import os\n",
        "\n",
        "# Get keys for your project from the project settings page: https://cloud.langfuse.com\n",
        "os.environ[\"LANGFUSE_PUBLIC_KEY\"] = \"pk-lf-8c9e7d1c-ddb2-4287-a0ac-6725ef645db8\"\n",
        "os.environ[\"LANGFUSE_SECRET_KEY\"] = \"sk-lf-5fcf7626-23c0-4dab-a3e2-d4cda1017781\"\n",
        "#os.environ[\"LANGFUSE_HOST\"] = \"https://cloud.langfuse.com\"  # 🇪🇺 EU region\n",
        "os.environ[\"LANGFUSE_HOST\"] = \"https://us.cloud.langfuse.com\" # 🇺🇸 US region"
      ]
    },
    {
      "metadata": {
        "id": "Y2YKZ7VLIPr2"
      },
      "cell_type": "code",
      "outputs": [],
      "execution_count": 76,
      "source": [
        "from langfuse.langchain import CallbackHandler\n",
        "langfuse_handler = CallbackHandler()"
      ]
    },
    {
      "metadata": {
        "id": "YyXsPyE6IPr3",
        "colab": {
          "base_uri": "https://localhost:8080/"
        },
        "outputId": "bcf81c55-22b8-4b73-9502-785eb0d31992"
      },
      "cell_type": "code",
      "outputs": [
        {
          "output_type": "stream",
          "name": "stdout",
          "text": [
            "\n",
            "Processing legitimate email...\n",
            "An AI Agent is processing an email from Cognizant AI with subject: Potential partnership ! \n",
            "ham\n",
            "\n",
            "==================================================\n",
            "Hello, I am your AI Agent. You have received an email from Cognizant AI.\n",
            "Subject: Potential partnership ! \n",
            "\n",
            "I've prepared a draft response for your review:\n",
            "--------------------------------------------------\n",
            "Of course. Here is a brief and professional draft response that Mr. Prince can review and personalize.\n",
            "\n",
            "---\n",
            "\n",
            "### **Draft Response for Mr. Prince's Review**\n",
            "\n",
            "**Option 1: Standard Subject Line**\n",
            "**Subject:** Re: Potential partnership !\n",
            "\n",
            "**Option 2: More Formal Subject Line**\n",
            "**Subject:** Re: Potential Partnership Inquiry - Vizuara & Cognizant AI\n",
            "\n",
            "**Body:**\n",
            "\n",
            "Dear Cognizant AI Team,\n",
            "\n",
            "Thank you for reaching out and for your interest in exploring a potential partnership with Vizuara.\n",
            "\n",
            "We are certainly open to discussing a collaboration. To make scheduling easier, you can view my availability and book a time directly via this link:\n",
            "\n",
            "[Insert Mr. Prince's Scheduling Link Here]\n",
            "\n",
            "Alternatively, please feel free to suggest a few dates and times that work for you next week, and I will be happy to coordinate.\n",
            "\n",
            "We look forward to connecting.\n",
            "\n",
            "Best regards,\n",
            "\n",
            "[Mr. Prince's Name]\n",
            "[Mr. Prince's Title]\n",
            "Vizuara\n",
            "==================================================\n",
            "\n",
            "\n",
            "Processing spam email...\n",
            "An AI Agent is processing an email from Crypto bro with subject: The best investment of 2025\n",
            "spam\n",
            "Alfred has marked the email as spam.\n",
            "The email has been moved to the spam folder.\n"
          ]
        }
      ],
      "execution_count": 77,
      "source": [
        "\n",
        "print(\"\\nProcessing legitimate email...\")\n",
        "legitimate_result = compiled_graph.invoke(\n",
        "    input={\n",
        "        \"email\": legitimate_email,\n",
        "        \"is_spam\": None,\n",
        "        \"draft_response\": None,\n",
        "        \"messages\": []\n",
        "    },\n",
        "    config={\"callbacks\": [langfuse_handler]}\n",
        ")\n",
        "\n",
        "\n",
        "print(\"\\nProcessing spam email...\")\n",
        "spam_result = compiled_graph.invoke(\n",
        "    input={\n",
        "        \"email\": spam_email,\n",
        "        \"is_spam\": None,\n",
        "        \"draft_response\": None,\n",
        "        \"messages\": []\n",
        "    },\n",
        "    config={\"callbacks\": [langfuse_handler]}\n",
        ")"
      ]
    },
    {
      "cell_type": "code",
      "source": [],
      "metadata": {
        "id": "Hjtj7aYbYyqi"
      },
      "execution_count": null,
      "outputs": []
    }
  ],
  "metadata": {
    "kernelspec": {
      "display_name": "Python 3",
      "name": "python3"
    },
    "language_info": {
      "codemirror_mode": {
        "name": "ipython",
        "version": 3
      },
      "file_extension": ".py",
      "mimetype": "text/x-python",
      "name": "python",
      "nbconvert_exporter": "python",
      "pygments_lexer": "ipython3",
      "version": "3.13.2"
    },
    "colab": {
      "provenance": []
    }
  },
  "nbformat": 4,
  "nbformat_minor": 0
}